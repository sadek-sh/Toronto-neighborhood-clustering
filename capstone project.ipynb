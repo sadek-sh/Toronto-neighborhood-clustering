{
 "cells": [
  {
   "cell_type": "markdown",
   "id": "c2da00b9",
   "metadata": {},
   "source": [
    "<center><h1>A Capstone project</h1></center>"
   ]
  },
  {
   "cell_type": "markdown",
   "id": "30fbc12b",
   "metadata": {},
   "source": [
    "* This notebook using pthyon and different machine learning algorithms to implement the Capstone project "
   ]
  },
  {
   "cell_type": "code",
   "execution_count": 2,
   "id": "4c6036fd",
   "metadata": {},
   "outputs": [],
   "source": [
    "import pandas as pd\n",
    "import numpy as np"
   ]
  },
  {
   "cell_type": "code",
   "execution_count": 4,
   "id": "033fcf6f",
   "metadata": {},
   "outputs": [
    {
     "name": "stdout",
     "output_type": "stream",
     "text": [
      "Hello Capstone Project Course!\n"
     ]
    }
   ],
   "source": [
    "print('Hello Capstone Project Course!')"
   ]
  },
  {
   "cell_type": "code",
   "execution_count": null,
   "id": "9aee590b",
   "metadata": {},
   "outputs": [],
   "source": []
  }
 ],
 "metadata": {
  "kernelspec": {
   "display_name": "Python 3",
   "language": "python",
   "name": "python3"
  },
  "language_info": {
   "codemirror_mode": {
    "name": "ipython",
    "version": 3
   },
   "file_extension": ".py",
   "mimetype": "text/x-python",
   "name": "python",
   "nbconvert_exporter": "python",
   "pygments_lexer": "ipython3",
   "version": "3.8.8"
  }
 },
 "nbformat": 4,
 "nbformat_minor": 5
}
